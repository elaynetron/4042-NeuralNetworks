{
 "cells": [
  {
   "cell_type": "code",
   "execution_count": 2,
   "id": "AaVMH7Sa5YJ9",
   "metadata": {
    "colab": {
     "base_uri": "https://localhost:8080/"
    },
    "id": "AaVMH7Sa5YJ9",
    "outputId": "d7ec12da-2202-4c85-ad16-76943af2eae9"
   },
   "outputs": [
    {
     "name": "stdout",
     "output_type": "stream",
     "text": [
      "Drive already mounted at /content/drive; to attempt to forcibly remount, call drive.mount(\"/content/drive\", force_remount=True).\n"
     ]
    }
   ],
   "source": [
    "#from google.colab import drive\n",
    "#drive.mount('/content/drive')"
   ]
  },
  {
   "cell_type": "code",
   "execution_count": 11,
   "id": "RugEvyLb6gz5",
   "metadata": {
    "id": "RugEvyLb6gz5"
   },
   "outputs": [],
   "source": [
    "#import os\n",
    "#os.chdir('/content/drive/MyDrive/Real_data')"
   ]
  },
  {
   "cell_type": "markdown",
   "id": "cbcfc318",
   "metadata": {
    "id": "cbcfc318"
   },
   "source": [
    "## Import Libraries"
   ]
  },
  {
   "cell_type": "code",
   "execution_count": 8,
   "id": "a8a6f191",
   "metadata": {
    "colab": {
     "base_uri": "https://localhost:8080/"
    },
    "id": "a8a6f191",
    "outputId": "569a3232-7056-4db8-9fe7-0f8084b264f9"
   },
   "outputs": [],
   "source": [
    "import os\n",
    "import tensorflow as tf\n",
    "from tensorflow import keras\n",
    "import numpy as np\n",
    "import pickle5\n",
    "import math\n",
    "import matplotlib.pyplot as plt"
   ]
  },
  {
   "cell_type": "markdown",
   "id": "f6310835",
   "metadata": {
    "id": "f6310835"
   },
   "source": [
    "## Load pickle file"
   ]
  },
  {
   "cell_type": "code",
   "execution_count": 9,
   "id": "624ed613",
   "metadata": {
    "id": "624ed613"
   },
   "outputs": [],
   "source": [
    "dir_name = './processed/'\n",
    "\n",
    "def load_pickle(filename):\n",
    "    with open(dir_name + filename + '.pkl', 'rb') as f:\n",
    "        return pickle5.load(f)"
   ]
  },
  {
   "cell_type": "markdown",
   "id": "2c8f2c92",
   "metadata": {
    "id": "2c8f2c92"
   },
   "source": [
    "## Initialisation - based on paper"
   ]
  },
  {
   "cell_type": "code",
   "execution_count": 10,
   "id": "efdf5464",
   "metadata": {
    "id": "efdf5464"
   },
   "outputs": [],
   "source": [
    "img_size = 227\n",
    "num_channels = 3\n",
    "batch_size = 50\n",
    "width, height = 256, 256\n",
    "cropped_width, cropped_height = 227, 227\n",
    "num_classes = 1\n",
    "\n",
    "seed = 10\n",
    "np.random.seed(seed)\n",
    "tf.random.set_seed(seed)\n",
    "\n",
    "# Learning rate\n",
    "lr = 1e-3"
   ]
  },
  {
   "cell_type": "markdown",
   "id": "12bbce94",
   "metadata": {
    "id": "12bbce94"
   },
   "source": [
    "From the paper, it said to drop the learning rate to 1e^-4 when epochs reach 10k.\n",
    "(1e^-3 - 1e^-4) is a drop of 10%, hence we use 0.1"
   ]
  },
  {
   "cell_type": "code",
   "execution_count": 11,
   "id": "dba4d3f8",
   "metadata": {
    "id": "dba4d3f8"
   },
   "outputs": [],
   "source": [
    "def step_decay(epoch):\n",
    "    init_lrate = 1e-3\n",
    "    drop = 0.1\n",
    "    epochs_drop = 10000\n",
    "    lrate = init_lrate * math.pow(drop, math.floor((1+epoch)/epochs_drop))\n",
    "    return lrate\n",
    "\n",
    "weight_init = keras.initializers.TruncatedNormal(mean=0.0,stddev=0.01,seed=seed)\n",
    "#bias_init = tf.keras.initializers.Constant(value=0.1)\n",
    "sgd = keras.optimizers.SGD(learning_rate=lr,momentum=0.0)\n",
    "loss_func = keras.losses.BinaryCrossentropy()\n",
    "lrate = keras.callbacks.LearningRateScheduler(step_decay)"
   ]
  },
  {
   "cell_type": "markdown",
   "id": "8977f64e",
   "metadata": {},
   "source": [
    "## Dropout"
   ]
  },
  {
   "cell_type": "markdown",
   "id": "f3e73572",
   "metadata": {},
   "source": [
    "Dropouts: 0, 0.2, 0.5, 0.8"
   ]
  },
  {
   "cell_type": "code",
   "execution_count": 12,
   "id": "8a92a3ae",
   "metadata": {},
   "outputs": [],
   "source": [
    "fc1_dropout = 0.8\n",
    "fc2_dropout = 0.5\n",
    "fc3_dropout = 0.2"
   ]
  },
  {
   "cell_type": "markdown",
   "id": "5b1d16a8",
   "metadata": {
    "id": "5b1d16a8"
   },
   "source": [
    "## Load and process data"
   ]
  },
  {
   "cell_type": "code",
   "execution_count": 13,
   "id": "946c2ab4",
   "metadata": {
    "id": "946c2ab4"
   },
   "outputs": [],
   "source": [
    "to_pickle = [['train', 'test']]\n",
    "for i in range(5):\n",
    "  to_pickle.append([\"fold_%s_train_sub\"%i, \"fold_%s_val\"%i])"
   ]
  },
  {
   "cell_type": "code",
   "execution_count": 14,
   "id": "EOlG7SLl-2pL",
   "metadata": {
    "id": "EOlG7SLl-2pL"
   },
   "outputs": [
    {
     "ename": "SystemError",
     "evalue": "deallocated bytearray object has exported buffers",
     "output_type": "error",
     "traceback": [
      "\u001b[1;31m---------------------------------------------------------------------------\u001b[0m",
      "\u001b[1;31mSystemError\u001b[0m                               Traceback (most recent call last)",
      "\u001b[1;31mSystemError\u001b[0m: deallocated bytearray object has exported buffers"
     ]
    },
    {
     "ename": "MemoryError",
     "evalue": "",
     "output_type": "error",
     "traceback": [
      "\u001b[1;31m---------------------------------------------------------------------------\u001b[0m",
      "\u001b[1;31mMemoryError\u001b[0m                               Traceback (most recent call last)",
      "\u001b[1;32m~\\AppData\\Local\\Temp/ipykernel_28912/2353251311.py\u001b[0m in \u001b[0;36m<module>\u001b[1;34m\u001b[0m\n\u001b[0;32m      1\u001b[0m \u001b[0mone_csv\u001b[0m \u001b[1;33m=\u001b[0m \u001b[0mto_pickle\u001b[0m\u001b[1;33m[\u001b[0m\u001b[1;36m0\u001b[0m\u001b[1;33m]\u001b[0m \u001b[1;31m# change\u001b[0m\u001b[1;33m\u001b[0m\u001b[0m\n\u001b[1;32m----> 2\u001b[1;33m \u001b[0mtrain_pickle\u001b[0m \u001b[1;33m=\u001b[0m \u001b[0mload_pickle\u001b[0m\u001b[1;33m(\u001b[0m\u001b[0mone_csv\u001b[0m\u001b[1;33m[\u001b[0m\u001b[1;36m0\u001b[0m\u001b[1;33m]\u001b[0m\u001b[1;33m)\u001b[0m\u001b[1;33m\u001b[0m\u001b[0m\n\u001b[0m\u001b[0;32m      3\u001b[0m \u001b[0mval_pickle\u001b[0m \u001b[1;33m=\u001b[0m \u001b[0mload_pickle\u001b[0m\u001b[1;33m(\u001b[0m\u001b[0mone_csv\u001b[0m\u001b[1;33m[\u001b[0m\u001b[1;36m1\u001b[0m\u001b[1;33m]\u001b[0m\u001b[1;33m)\u001b[0m\u001b[1;33m\u001b[0m\u001b[0m\n\u001b[0;32m      4\u001b[0m \u001b[1;33m\u001b[0m\u001b[0m\n\u001b[0;32m      5\u001b[0m \u001b[0mX_train\u001b[0m \u001b[1;33m=\u001b[0m \u001b[0mnp\u001b[0m\u001b[1;33m.\u001b[0m\u001b[0marray\u001b[0m\u001b[1;33m(\u001b[0m\u001b[0mtrain_pickle\u001b[0m\u001b[1;33m[\u001b[0m\u001b[1;34m'images'\u001b[0m\u001b[1;33m]\u001b[0m\u001b[1;33m)\u001b[0m\u001b[1;33m\u001b[0m\u001b[0m\n",
      "\u001b[1;32m~\\AppData\\Local\\Temp/ipykernel_28912/2072923212.py\u001b[0m in \u001b[0;36mload_pickle\u001b[1;34m(filename)\u001b[0m\n\u001b[0;32m      3\u001b[0m \u001b[1;32mdef\u001b[0m \u001b[0mload_pickle\u001b[0m\u001b[1;33m(\u001b[0m\u001b[0mfilename\u001b[0m\u001b[1;33m)\u001b[0m\u001b[1;33m:\u001b[0m\u001b[1;33m\u001b[0m\u001b[0m\n\u001b[0;32m      4\u001b[0m     \u001b[1;32mwith\u001b[0m \u001b[0mopen\u001b[0m\u001b[1;33m(\u001b[0m\u001b[0mdir_name\u001b[0m \u001b[1;33m+\u001b[0m \u001b[0mfilename\u001b[0m \u001b[1;33m+\u001b[0m \u001b[1;34m'.pkl'\u001b[0m\u001b[1;33m,\u001b[0m \u001b[1;34m'rb'\u001b[0m\u001b[1;33m)\u001b[0m \u001b[1;32mas\u001b[0m \u001b[0mf\u001b[0m\u001b[1;33m:\u001b[0m\u001b[1;33m\u001b[0m\u001b[0m\n\u001b[1;32m----> 5\u001b[1;33m         \u001b[1;32mreturn\u001b[0m \u001b[0mpickle5\u001b[0m\u001b[1;33m.\u001b[0m\u001b[0mload\u001b[0m\u001b[1;33m(\u001b[0m\u001b[0mf\u001b[0m\u001b[1;33m)\u001b[0m\u001b[1;33m\u001b[0m\u001b[0m\n\u001b[0m",
      "\u001b[1;31mMemoryError\u001b[0m: "
     ]
    }
   ],
   "source": [
    "one_csv = to_pickle[0] # change\n",
    "train_pickle = load_pickle(one_csv[0])\n",
    "val_pickle = load_pickle(one_csv[1])\n",
    "\n",
    "X_train = np.array(train_pickle['images'])    \n",
    "y_train = np.array(train_pickle['genders'])\n",
    "\n",
    "X_val = np.array(val_pickle['images'])\n",
    "y_val = np.array(val_pickle['genders'])"
   ]
  },
  {
   "cell_type": "markdown",
   "id": "9ec1a8f8",
   "metadata": {
    "id": "9ec1a8f8"
   },
   "source": [
    "Check that the image size is as described in the paper (256x256)"
   ]
  },
  {
   "cell_type": "code",
   "execution_count": null,
   "id": "45b8567f",
   "metadata": {
    "colab": {
     "base_uri": "https://localhost:8080/",
     "height": 286
    },
    "id": "45b8567f",
    "outputId": "99d6ed3a-70ed-4f6e-eb99-d4e84e38c4a8"
   },
   "outputs": [],
   "source": [
    "img = X_train[50,:,:,:]\n",
    "plt.imshow(img)"
   ]
  },
  {
   "cell_type": "markdown",
   "id": "d68e351f",
   "metadata": {
    "id": "d68e351f"
   },
   "source": [
    "Crop image and check that image is now cropped as described in paper (227x227)"
   ]
  },
  {
   "cell_type": "code",
   "execution_count": 14,
   "id": "f989d4a0",
   "metadata": {
    "colab": {
     "base_uri": "https://localhost:8080/",
     "height": 286
    },
    "id": "f989d4a0",
    "outputId": "690ada43-1ae8-43ad-bf55-8c13648fb7bf"
   },
   "outputs": [
    {
     "data": {
      "text/plain": [
       "<matplotlib.image.AxesImage at 0x7fb4b3a65d50>"
      ]
     },
     "execution_count": 14,
     "metadata": {},
     "output_type": "execute_result"
    },
    {
     "data": {
      "image/png": "[encoded data removed]",
      "text/plain": [
       "<Figure size 432x288 with 1 Axes>"
      ]
     },
     "metadata": {
      "needs_background": "light"
     },
     "output_type": "display_data"
    }
   ],
   "source": [
    "left = int((width - cropped_width)/2)\n",
    "right = int((width + cropped_width)/2)\n",
    "top = int((height - cropped_height)/2)\n",
    "bottom = int((height + cropped_height)/2)\n",
    "\n",
    "X_train = X_train[:,left:right,top:bottom,:]\n",
    "X_val = X_val[:,left:right,top:bottom,:]\n",
    "\n",
    "img = X_train[50,:,:,:]\n",
    "plt.imshow(img)"
   ]
  },
  {
   "cell_type": "markdown",
   "id": "83f7beda",
   "metadata": {
    "id": "83f7beda"
   },
   "source": [
    "## Model - based on paper"
   ]
  },
  {
   "cell_type": "code",
   "execution_count": null,
   "id": "c02ba79d",
   "metadata": {
    "colab": {
     "base_uri": "https://localhost:8080/",
     "height": 229
    },
    "id": "c02ba79d",
    "outputId": "0d34785c-522c-4781-b8d5-a1aab8a46d96"
   },
   "outputs": [],
   "source": [
    "model = keras.models.Sequential()\n",
    "# First convolution layer - 96 filters, 7x7 kernel, 4 strides, valid padding, relu\n",
    "model.add(keras.layers.Conv2D(96, (7,7),input_shape = (cropped_width, cropped_height, num_channels), strides = 4,\n",
    "                                  padding ='valid',activation = 'relu',kernel_initializer = weight_init))\n",
    "# Max pooling - 3x3 kernel, 2 strides, channel last by default\n",
    "model.add(keras.layers.MaxPool2D(pool_size = (3,3), strides = 2, padding = 'same'))\n",
    "# Output - 96x28x28\n",
    "model.add(keras.layers.Lambda(lambda x: tf.nn.local_response_normalization(input=x, alpha=0.0001, beta=0.75)))\n",
    "\n",
    "# Second convolution layer - 256 filters, 5x5 kernel, relu, same padding\n",
    "model.add(keras.layers.Conv2D(256, (5,5), padding = 'same',activation = 'relu', kernel_initializer = weight_init))\n",
    "# Max pooling - 3x3 kernel, 2 strides, channel last by default\n",
    "model.add(keras.layers.MaxPool2D(pool_size = (3, 3), strides = 2,padding = 'same'))\n",
    "#Output - 14x14\n",
    "model.add(keras.layers.Lambda(lambda x: tf.nn.local_response_normalization(input=x, alpha=0.0001, beta=0.75)))\\\n",
    "\n",
    "# Last convolution layer - 384 filters, 3x3 kernel, relu, same padding\n",
    "model.add(keras.layers.Conv2D(384, (3,3),padding = 'same',activation = 'relu',kernel_initializer = weight_init))\n",
    "# Max pooling - 3x3 kernel, 2 strides, channel last by default\n",
    "model.add(keras.layers.MaxPool2D(pool_size = (3,3), strides=2, padding = 'same'))\n",
    "\n",
    "# Flatten\n",
    "model.add(keras.layers.Flatten())\n",
    "# 2 Fully Connected Layers with 512 neurons\n",
    "# FC1:\n",
    "model.add(keras.layers.Dropout(fc1_dropout))\n",
    "model.add(keras.layers.Dense(512,activation = \"relu\",kernel_initializer = weight_init))\n",
    "# Dropout\n",
    "model.add(keras.layers.Dropout(fc2_dropout))\n",
    "# FC2:\n",
    "model.add(keras.layers.Dense(512,activation = 'relu',kernel_initializer = weight_init))\n",
    "#Dropout\n",
    "model.add(keras.layers.Dropout(fc3_dropout))\n",
    "#FC3 - Third, fully connected layer which maps to the final classes for age or gender\n",
    "model.add(keras.layers.Dense(num_classes, activation = 'sigmoid', kernel_initializer = weight_init))\n",
    "\n",
    "model.compile(loss=loss_func,optimizer=sgd,metrics=['accuracy'])\n",
    "\n",
    "dir_name = './dropout_model/'\n",
    "if not os.path.isdir(dir_name):\n",
    "  os.mkdir(dir_name)\n",
    "\n",
    "checkpoint = keras.callbacks.ModelCheckpoint(dir_name + one_csv[0][:6] + '.ckpt', monitor='val_accuracy', \n",
    "                                                 verbose=1, mode='max', save_best_only = True)\n",
    "csv_logger = keras.callbacks.CSVLogger(dir_name + one_csv[0][:6] + '.csv')\n",
    "early_stopping = keras.callbacks.EarlyStopping(monitor='val_loss',patience=30)\n",
    "callbacks = [lrate,checkpoint,csv_logger,early_stopping]\n",
    "\n",
    "num_epochs = 100\n",
    "#if one_csv[0][:4] == 'fold':\n",
    "#  num_epochs = 500\n",
    "\n",
    "model.summary()\n",
    "results = model.fit(X_train, y_train,\n",
    "                        batch_size = batch_size,\n",
    "                        epochs = num_epochs,\n",
    "                        verbose=2,\n",
    "                        callbacks=callbacks,\n",
    "                        validation_data = (X_val,y_val))"
   ]
  },
  {
   "cell_type": "markdown",
   "id": "nQ_9aZ0L9BBK",
   "metadata": {
    "id": "nQ_9aZ0L9BBK"
   },
   "source": [
    "Train-Test Accuracy vs Epochs"
   ]
  },
  {
   "cell_type": "code",
   "execution_count": null,
   "id": "8YsneqFG843V",
   "metadata": {
    "id": "8YsneqFG843V"
   },
   "outputs": [],
   "source": [
    "plt.figure(figsize=(12,7))\n",
    "plt.plot(results.history['accuracy'])\n",
    "plt.plot(results.history['val_accuracy'])\n",
    "plt.title('Dropout Model - Train-Test Accuracy vs Epochs')\n",
    "plt.ylabel('Train-Test Accuracy')\n",
    "plt.xlabel('Epochs')\n",
    "plt.legend(['train','test'],loc='lower right')\n",
    "plt.savefig(dir_name + '/train_test_acc.png')\n",
    "plt.show()"
   ]
  },
  {
   "cell_type": "markdown",
   "id": "p267-eYT9EkY",
   "metadata": {
    "id": "p267-eYT9EkY"
   },
   "source": [
    "Train-Val Loss vs Epochs"
   ]
  },
  {
   "cell_type": "code",
   "execution_count": null,
   "id": "huDVgyJd8-1P",
   "metadata": {
    "id": "huDVgyJd8-1P"
   },
   "outputs": [],
   "source": [
    "plt.figure(figsize=(12,7))\n",
    "plt.plot(results.history['loss'])\n",
    "plt.plot(results.history['val_loss'])\n",
    "plt.title('Dropout Model - Train-Val Loss vs Epochs')\n",
    "plt.ylabel('Train-Val Loss')\n",
    "plt.xlabel('Epochs')\n",
    "plt.legend(['train','test'],loc='upper right')\n",
    "plt.savefig(dir_name + '/train_test_loss.png')\n",
    "plt.show()"
   ]
  }
 ],
 "metadata": {
  "accelerator": "GPU",
  "colab": {
   "name": "Baseline_Model.ipynb",
   "provenance": []
  },
  "kernelspec": {
   "display_name": "Python 3 (ipykernel)",
   "language": "python",
   "name": "python3"
  },
  "language_info": {
   "codemirror_mode": {
    "name": "ipython",
    "version": 3
   },
   "file_extension": ".py",
   "mimetype": "text/x-python",
   "name": "python",
   "nbconvert_exporter": "python",
   "pygments_lexer": "ipython3",
   "version": "3.9.6"
  }
 },
 "nbformat": 4,
 "nbformat_minor": 5
}
