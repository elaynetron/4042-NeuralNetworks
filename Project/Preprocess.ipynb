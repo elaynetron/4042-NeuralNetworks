{
 "cells": [
  {
   "cell_type": "markdown",
   "metadata": {
    "id": "7Hm5S0Fpj8rP"
   },
   "source": [
    "## Import Libraries"
   ]
  },
  {
   "cell_type": "code",
   "execution_count": 2,
   "metadata": {
    "id": "p1LNH43yjJkH"
   },
   "outputs": [],
   "source": [
    "import pandas as pd\n",
    "import numpy as np\n",
    "import PIL\n",
    "from PIL import Image\n",
    "from sklearn.model_selection import train_test_split\n",
    "import random\n",
    "import pickle\n",
    "from ast import literal_eval\n",
    "from operator import itemgetter\n",
    "import matplotlib.pyplot as plt\n",
    "import os"
   ]
  },
  {
   "cell_type": "markdown",
   "metadata": {},
   "source": [
    "## Data Augmentation\n"
   ]
  },
  {
   "cell_type": "code",
   "execution_count": 3,
   "metadata": {
    "scrolled": true
   },
   "outputs": [
    {
     "name": "stdout",
     "output_type": "stream",
     "text": [
      "aligned - Sub directory 1 '100003415@N08': Done\n",
      "aligned - Sub directory 2 '10001312@N04': Done\n",
      "aligned - Sub directory 3 '100014826@N03': Done\n",
      "aligned - Sub directory 4 '10008401@N05': Done\n",
      "aligned - Sub directory 5 '100346410@N05': Done\n",
      "aligned - Sub directory 6 '10044155@N06': Done\n",
      "aligned - Sub directory 7 '10058630@N06': Done\n",
      "aligned - Sub directory 8 '10062073@N07': Done\n",
      "aligned - Sub directory 9 '10069023@N00': Done\n",
      "aligned - Sub directory 10 '101071073@N04': Done\n",
      "aligned - Sub directory 11 '10113099@N03': Done\n",
      "aligned - Sub directory 12 '10123180@N04': Done\n",
      "aligned - Sub directory 13 '101295462@N02': Done\n",
      "aligned - Sub directory 14 '10129575@N03': Done\n",
      "aligned - Sub directory 15 '10148140@N07': Done\n",
      "aligned - Sub directory 16 '101515718@N03': Done\n",
      "aligned - Sub directory 17 '101532586@N07': Done\n",
      "aligned - Sub directory 18 '101560979@N02': Done\n",
      "aligned - Sub directory 19 '101591466@N03': Done\n",
      "aligned - Sub directory 20 '101636677@N08': Done\n",
      "aligned - Sub directory 21 '10171175@N06': Done\n",
      "aligned - Sub directory 22 '10241064@N08': Done\n",
      "aligned - Sub directory 23 '102455446@N08': Done\n",
      "aligned - Sub directory 24 '10255165@N05': Done\n",
      "aligned - Sub directory 25 '10280355@N07': Done\n",
      "aligned - Sub directory 26 '10328235@N07': Done\n",
      "aligned - Sub directory 27 '10354155@N05': Done\n",
      "aligned - Sub directory 28 '10391859@N05': Done\n",
      "aligned - Sub directory 29 '10406201@N05': Done\n",
      "aligned - Sub directory 30 '10440927@N07': Done\n",
      "aligned - Sub directory 31 '10466455@N02': Done\n",
      "aligned - Sub directory 32 '104937236@N08': Done\n",
      "aligned - Sub directory 33 '10543088@N02': Done\n",
      "aligned - Sub directory 34 '10580682@N07': Done\n",
      "aligned - Sub directory 35 '10611527@N03': Done\n",
      "aligned - Sub directory 36 '10693681@N00': Done\n",
      "aligned - Sub directory 37 '10743505@N04': Done\n",
      "aligned - Sub directory 38 '10747684@N00': Done\n",
      "aligned - Sub directory 39 '10792106@N03': Done\n",
      "aligned - Sub directory 40 '10897942@N03': Done\n",
      "aligned - Sub directory 41 '11008464@N06': Done\n",
      "aligned - Sub directory 42 '110095806@N05': Done\n",
      "aligned - Sub directory 43 '111700049@N08': Done\n",
      "aligned - Sub directory 44 '112114373@N07': Done\n",
      "aligned - Sub directory 45 '112599447@N03': Done\n",
      "aligned - Sub directory 46 '113417044@N07': Done\n",
      "aligned - Sub directory 47 '113445054@N07': Done\n",
      "aligned - Sub directory 48 '113525713@N07': Done\n",
      "aligned - Sub directory 49 '113528649@N08': Done\n",
      "aligned - Sub directory 50 '113564294@N02': Done\n",
      "aligned - Sub directory 51 '113603634@N04': Done\n",
      "aligned - Sub directory 52 '113605644@N05': Done\n",
      "aligned - Sub directory 53 '113650443@N02': Done\n",
      "aligned - Sub directory 54 '113705978@N06': Done\n",
      "aligned - Sub directory 55 '113707938@N08': Done\n",
      "aligned - Sub directory 56 '113715068@N06': Done\n",
      "aligned - Sub directory 57 '113728563@N05': Done\n",
      "aligned - Sub directory 58 '113771355@N07': Done\n",
      "aligned - Sub directory 59 '113804525@N05': Done\n",
      "aligned - Sub directory 60 '113830953@N04': Done\n",
      "aligned - Sub directory 61 '113846810@N03': Done\n",
      "aligned - Sub directory 62 '113984426@N05': Done\n",
      "aligned - Sub directory 63 '114041079@N03': Done\n",
      "aligned - Sub directory 64 '114776843@N02': Done\n",
      "aligned - Sub directory 65 '114841417@N06': Done\n",
      "aligned - Sub directory 66 '114918674@N02': Done\n",
      "aligned - Sub directory 67 '114970707@N08': Done\n",
      "aligned - Sub directory 68 '11497677@N05': Done\n",
      "aligned - Sub directory 69 '114978798@N03': Done\n",
      "aligned - Sub directory 70 '114987449@N03': Done\n",
      "aligned - Sub directory 71 '115002895@N05': Done\n",
      "aligned - Sub directory 72 '115019194@N04': Done\n",
      "aligned - Sub directory 73 '115021413@N07': Done\n",
      "aligned - Sub directory 74 '115033594@N04': Done\n",
      "aligned - Sub directory 75 '115046815@N06': Done\n",
      "aligned - Sub directory 76 '115111634@N07': Done\n",
      "aligned - Sub directory 77 '115126086@N07': Done\n",
      "aligned - Sub directory 78 '115152228@N06': Done\n",
      "aligned - Sub directory 79 '115153697@N06': Done\n",
      "aligned - Sub directory 80 '115178119@N08': Done\n",
      "aligned - Sub directory 81 '115321157@N03': Done\n",
      "aligned - Sub directory 82 '15772432@N00': Done\n",
      "aligned - Sub directory 83 '16166376@N00': Done\n",
      "aligned - Sub directory 84 '16886060@N03': Done\n",
      "aligned - Sub directory 85 '18142498@N06': Done\n",
      "aligned - Sub directory 86 '19393853@N00': Done\n",
      "aligned - Sub directory 87 '20245009@N06': Done\n",
      "aligned - Sub directory 88 '20254529@N04': Done\n",
      "aligned - Sub directory 89 '20272804@N04': Done\n",
      "aligned - Sub directory 90 '20316685@N02': Done\n",
      "aligned - Sub directory 91 '20487016@N02': Done\n",
      "aligned - Sub directory 92 '20632896@N03': Done\n",
      "aligned - Sub directory 93 '20696814@N02': Done\n",
      "aligned - Sub directory 94 '22815721@N06': Done\n",
      "aligned - Sub directory 95 '26112397@N05': Done\n",
      "aligned - Sub directory 96 '28468602@N06': Done\n",
      "aligned - Sub directory 97 '28754132@N06': Done\n",
      "aligned - Sub directory 98 '29671106@N00': Done\n",
      "aligned - Sub directory 99 '30601258@N03': Done\n",
      "aligned - Sub directory 100 '30872264@N00': Done\n",
      "aligned - Sub directory 101 '31040257@N06': Done\n",
      "aligned - Sub directory 102 '31183835@N08': Done\n",
      "aligned - Sub directory 103 '31442459@N00': Done\n",
      "aligned - Sub directory 104 '31885615@N05': Done\n",
      "aligned - Sub directory 105 '33592376@N08': Done\n",
      "aligned - Sub directory 106 '33627988@N04': Done\n",
      "aligned - Sub directory 107 '34158582@N02': Done\n",
      "aligned - Sub directory 108 '34350525@N03': Done\n",
      "aligned - Sub directory 109 '34622581@N02': Done\n",
      "aligned - Sub directory 110 '35953373@N04': Done\n",
      "aligned - Sub directory 111 '37303189@N08': Done\n",
      "aligned - Sub directory 112 '37404707@N08': Done\n",
      "aligned - Sub directory 113 '37920461@N06': Done\n",
      "aligned - Sub directory 114 '39347094@N04': Done\n",
      "aligned - Sub directory 115 '39411334@N02': Done\n",
      "aligned - Sub directory 116 '39615950@N00': Done\n",
      "aligned - Sub directory 117 '39957446@N00': Done\n",
      "aligned - Sub directory 118 '40410287@N02': Done\n",
      "aligned - Sub directory 119 '43999398@N00': Done\n",
      "aligned - Sub directory 120 '44824649@N05': Done\n",
      "aligned - Sub directory 121 '45666944@N00': Done\n",
      "aligned - Sub directory 122 '45668969@N05': Done\n",
      "aligned - Sub directory 123 '46113291@N03': Done\n",
      "aligned - Sub directory 124 '48135726@N02': Done\n",
      "aligned - Sub directory 125 '48647239@N03': Done\n",
      "aligned - Sub directory 126 '50458575@N08': Done\n",
      "aligned - Sub directory 127 '50739822@N00': Done\n",
      "aligned - Sub directory 128 '54030085@N03': Done\n",
      "aligned - Sub directory 129 '54263201@N07': Done\n",
      "aligned - Sub directory 130 '60251856@N05': Done\n",
      "aligned - Sub directory 131 '60616055@N03': Done\n",
      "aligned - Sub directory 132 '61777259@N08': Done\n",
      "aligned - Sub directory 133 '62282816@N03': Done\n",
      "aligned - Sub directory 134 '62501130@N02': Done\n",
      "aligned - Sub directory 135 '63153065@N07': Done\n",
      "aligned - Sub directory 136 '63164355@N03': Done\n",
      "aligned - Sub directory 137 '64504106@N06': Done\n",
      "aligned - Sub directory 138 '64574820@N06': Done\n",
      "aligned - Sub directory 139 '66870968@N06': Done\n",
      "aligned - Sub directory 140 '68094148@N04': Done\n",
      "aligned - Sub directory 141 '68666269@N03': Done\n",
      "aligned - Sub directory 142 '68825596@N05': Done\n",
      "aligned - Sub directory 143 '7153718@N04': Done\n",
      "aligned - Sub directory 144 '7285955@N06': Done\n",
      "aligned - Sub directory 145 '7380406@N04': Done\n",
      "aligned - Sub directory 146 '7398884@N04': Done\n",
      "aligned - Sub directory 147 '7411850@N04': Done\n",
      "aligned - Sub directory 148 '7464014@N04': Done\n",
      "aligned - Sub directory 149 '7610270@N03': Done\n",
      "aligned - Sub directory 150 '7636528@N03': Done\n",
      "aligned - Sub directory 151 '7648211@N03': Done\n",
      "aligned - Sub directory 152 '7651777@N03': Done\n",
      "aligned - Sub directory 153 '7890646@N03': Done\n",
      "aligned - Sub directory 154 '7895525@N04': Done\n",
      "aligned - Sub directory 155 '8007224@N07': Done\n",
      "aligned - Sub directory 156 '8034587@N06': Done\n",
      "aligned - Sub directory 157 '8072696@N04': Done\n",
      "aligned - Sub directory 158 '8073752@N03': Done\n",
      "aligned - Sub directory 159 '8147776@N04': Done\n",
      "aligned - Sub directory 160 '8187011@N06': Done\n",
      "aligned - Sub directory 161 '8200563@N04': Done\n",
      "aligned - Sub directory 162 '82152000@N00': Done\n",
      "aligned - Sub directory 163 '8410632@N03': Done\n",
      "aligned - Sub directory 164 '86629393@N00': Done\n",
      "aligned - Sub directory 165 '9017386@N06': Done\n",
      "aligned - Sub directory 166 '98075207@N04': Done\n",
      "aligned - Sub directory 167 '9855553@N08': Done\n",
      "aligned - Sub directory 168 '9965452@N08': Done\n"
     ]
    }
   ],
   "source": [
    "main_dir_names = ['Adience Gender Dataset/aligned']\n",
    "\n",
    "for main_dir_name in main_dir_names:\n",
    "    sub_dir_names = os.listdir(main_dir_name)\n",
    "    count = 1\n",
    "    for sub_dir in sub_dir_names:\n",
    "        filenames = os.listdir(main_dir_name + '/' + sub_dir)\n",
    "        dir_name = main_dir_name + '/' + sub_dir\n",
    "\n",
    "        for filename in filenames:\n",
    "            # because there are txt files in 'faces'\n",
    "            if filename[-4:] == '.jpg':\n",
    "                # Load image\n",
    "                image = Image.open(dir_name + '/' + filename)\n",
    "\n",
    "                # Grayscale img\n",
    "                gs_img = image.convert(mode = 'L')\n",
    "                gs_img.save(dir_name + '/grayscale_' + filename)\n",
    "\n",
    "                # Flip img\n",
    "                hori_img = image.transpose(Image.FLIP_LEFT_RIGHT)\n",
    "                vert_img = image.transpose(Image.FLIP_TOP_BOTTOM)\n",
    "                hori_img.save(dir_name + '/hori_flip_' + filename)\n",
    "                vert_img.save(dir_name + '/vert_flip_' + filename)\n",
    "\n",
    "                # Rotate img\n",
    "                rotate_img = image.rotate(90)\n",
    "                rotate_img.save(dir_name + '/rotated_' + filename)\n",
    "\n",
    "        # Progress tracker - 168 sub directories in total\n",
    "        print(main_dir_name.split('/')[-1] + \" - Sub directory \" \n",
    "              + str(count) + \" '\" + sub_dir + \"': Done\" )\n",
    "        count += 1"
   ]
  },
  {
   "cell_type": "markdown",
   "metadata": {
    "id": "Zbdi-budoE4A"
   },
   "source": [
    "## Initialisations"
   ]
  },
  {
   "cell_type": "code",
   "execution_count": 4,
   "metadata": {
    "id": "9fRQgpLJnQuo"
   },
   "outputs": [],
   "source": [
    "# Folder to store processed data\n",
    "dir_name = './processed/'\n",
    "if not os.path.isdir(dir_name):\n",
    "  os.mkdir(dir_name)"
   ]
  },
  {
   "cell_type": "markdown",
   "metadata": {
    "id": "X82aMknfnp71"
   },
   "source": [
    "## Pickle file conversions"
   ]
  },
  {
   "cell_type": "code",
   "execution_count": 5,
   "metadata": {
    "id": "EaSDpPJEnkOR"
   },
   "outputs": [],
   "source": [
    "def load_pickle(filename):\n",
    "  with open(filename + '.pkl', 'rb') as f:\n",
    "    return pickle.load(f)"
   ]
  },
  {
   "cell_type": "code",
   "execution_count": 6,
   "metadata": {
    "id": "THDm50HTn-f_"
   },
   "outputs": [],
   "source": [
    "def save_pickle(pkl, filename):\n",
    "  with open(dir_name + filename + '.pkl', 'wb') as f:\n",
    "    pickle.dump(pkl, f, pickle.HIGHEST_PROTOCOL)"
   ]
  },
  {
   "cell_type": "markdown",
   "metadata": {
    "id": "-iQ-3yX0uAIJ"
   },
   "source": [
    "## Age range conversion"
   ]
  },
  {
   "cell_type": "code",
   "execution_count": 16,
   "metadata": {
    "id": "brQ04bX2uE0A"
   },
   "outputs": [],
   "source": [
    "def get_age(age_tuple):\n",
    "  age_ranges = [(0,2), (4,6), (8,13), (15,20), (25,32), (38,43), (48,53), (60,100)]\n",
    "  nearest = (100, 100)\n",
    "  nearest_range = -1\n",
    "  for i in range(len(age_ranges)):\n",
    "    age_range = age_ranges[i]\n",
    "    temp = tuple(np.absolute(np.subtract(age_tuple, age_range)))\n",
    "    if min((temp, nearest), key = itemgetter(1)) == temp:\n",
    "      nearest = temp\n",
    "      nearest_range = i\n",
    "  return nearest_range"
   ]
  },
  {
   "cell_type": "markdown",
   "metadata": {
    "id": "EyUGtOsFyF-Y"
   },
   "source": [
    "## Train-test split"
   ]
  },
  {
   "cell_type": "code",
   "execution_count": 17,
   "metadata": {
    "id": "8l5RAWaozWrW"
   },
   "outputs": [],
   "source": [
    "train_test_dir = './train_test_processed/'\n",
    "if not os.path.isdir(train_test_dir):\n",
    "  os.mkdir(train_test_dir)\n",
    "\n",
    "# Train, test\n",
    "for fold in range(5):\n",
    "  df = pd.read_csv(\"./Adience Gender Dataset/fold_%s_data.txt\"%fold, sep = \"\\t\")\n",
    "  # Cleaning\n",
    "  df = df[df['age']!='None']\n",
    "  df = df[df['age']!=' ']\n",
    "  df = df[df['gender'].notnull()]\n",
    "  df = df[df['gender']!=' ']\n",
    "  df = df[df['gender']!='u']\n",
    "\n",
    "  # Split 80/20\n",
    "  train_df, test_df = train_test_split(df, test_size = 0.2, shuffle = True, random_state = 10)\n",
    "  train_df.to_csv(train_test_dir + \"fold_%s_train.csv\"%fold, index=False)\n",
    "  test_df.to_csv(train_test_dir + \"fold_%s_test.csv\"%fold, index=False)\n",
    "\n",
    "# Combine\n",
    "train_df = pd.concat([pd.read_csv(train_test_dir + \"fold_%s_train.csv\"%fold) for fold in range(5)])\n",
    "test_df = pd.concat([pd.read_csv(train_test_dir + \"fold_%s_test.csv\"%fold) for fold in range(5)])\n",
    "train_df.to_csv(train_test_dir + \"train.csv\", index=False)\n",
    "test_df.to_csv(train_test_dir + \"test.csv\", index=False)\n",
    "\n",
    "# Train, validation\n",
    "for fold in range(5):\n",
    "  # Leave original of that fold as validation, combine the rest\n",
    "  train_sub_folds = [i for i in range(5) if i != fold]\n",
    "  train_sub_df = pd.concat([pd.read_csv(train_test_dir + \"fold_%s_train.csv\"%train_sub) for train_sub in train_sub_folds])\n",
    "  val_df = pd.read_csv(train_test_dir + \"fold_%s_train.csv\"%fold)\n",
    "  train_sub_df.to_csv(train_test_dir + \"fold_%s_train_sub.csv\"%fold, index=False)\n",
    "  val_df.to_csv(train_test_dir + \"fold_%s_val.csv\"%fold, index=False)"
   ]
  },
  {
   "cell_type": "markdown",
   "metadata": {
    "id": "QNh1NxZ7QFwo"
   },
   "source": [
    "## Pickle all datasets"
   ]
  },
  {
   "cell_type": "code",
   "execution_count": 19,
   "metadata": {
    "id": "F437uIYNDpHX"
   },
   "outputs": [
    {
     "name": "stdout",
     "output_type": "stream",
     "text": [
      "train: Done\n",
      "test: Done\n",
      "fold_0_train_sub: Done\n",
      "fold_0_val: Done\n",
      "fold_1_train_sub: Done\n",
      "fold_1_val: Done\n",
      "fold_2_train_sub: Done\n",
      "fold_2_val: Done\n",
      "fold_3_train_sub: Done\n",
      "fold_3_val: Done\n",
      "fold_4_train_sub: Done\n",
      "fold_4_val: Done\n"
     ]
    }
   ],
   "source": [
    "to_pickle = ['train', 'test']\n",
    "counter= \"_NEW_\"\n",
    "for i in range(5):\n",
    "  to_pickle += [\"fold_%s_train_sub\"%i, \"fold_%s_val\"%i]\n",
    "\n",
    "for one_csv in to_pickle:\n",
    "  df = pd.read_csv(train_test_dir + one_csv + '.csv')\n",
    "  images, genders, ages = [], [], []\n",
    "  for i, row in df.iterrows():\n",
    "    age = row['age']\n",
    "    age_range = get_age(literal_eval(age))\n",
    "    ages.append(age_range)\n",
    "\n",
    "    gender = row['gender']\n",
    "    if (gender == \"m\"):\n",
    "      genders.append(0)\n",
    "    else:\n",
    "      genders.append(1)\n",
    "\n",
    "    user_id = row['user_id']\n",
    "    orig_img = row['original_image']\n",
    "    face_id = row['face_id']\n",
    "    img = Image.open('./Adience Gender Dataset/aligned/' + user_id + '/landmark_aligned_face.' + str(face_id) + '.' + orig_img)\n",
    "    processed_img = img.resize((64, 64), Image.ANTIALIAS)\n",
    "    images.append(np.array(processed_img))\n",
    "\n",
    "  csv_dict = {'dataset_name': one_csv, 'images': images, 'genders': genders, 'ages': ages}\n",
    "  save_pickle(csv_dict, counter+one_csv)\n",
    "  print(one_csv + \": Done\")"
   ]
  },
  {
   "cell_type": "code",
   "execution_count": null,
   "metadata": {},
   "outputs": [],
   "source": []
  },
  {
   "cell_type": "code",
   "execution_count": null,
   "metadata": {},
   "outputs": [],
   "source": []
  }
 ],
 "metadata": {
  "colab": {
   "collapsed_sections": [],
   "name": "Preprocess.ipynb",
   "provenance": []
  },
  "kernelspec": {
   "display_name": "Python 3 (ipykernel)",
   "language": "python",
   "name": "python3"
  },
  "language_info": {
   "codemirror_mode": {
    "name": "ipython",
    "version": 3
   },
   "file_extension": ".py",
   "mimetype": "text/x-python",
   "name": "python",
   "nbconvert_exporter": "python",
   "pygments_lexer": "ipython3",
   "version": "3.8.8"
  }
 },
 "nbformat": 4,
 "nbformat_minor": 1
}
